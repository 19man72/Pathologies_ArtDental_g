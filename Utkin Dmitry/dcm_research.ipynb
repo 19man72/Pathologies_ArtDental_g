{
 "cells": [
  {
   "cell_type": "code",
   "execution_count": 49,
   "metadata": {},
   "outputs": [],
   "source": [
    "import os\n",
    "import SimpleITK as sitk\n",
    "from visual import plot_3d, slices_slider\n",
    "import numpy as np\n",
    "\n",
    "import matplotlib.pyplot as plt\n",
    "from skimage import measure\n",
    "from mpl_toolkits.mplot3d.art3d import Poly3DCollection\n",
    "import matplotlib.patches as mpatches\n",
    "%matplotlib inline"
   ]
  },
  {
   "cell_type": "code",
   "execution_count": 2,
   "metadata": {},
   "outputs": [],
   "source": [
    "DS_PATH = \"/Users/dutking/LOCAL/_datasets/gnatology\""
   ]
  },
  {
   "cell_type": "code",
   "execution_count": 3,
   "metadata": {},
   "outputs": [],
   "source": [
    "def read_series(path):\n",
    "    series_reader = sitk.ImageSeriesReader()\n",
    "    series_IDs = series_reader.GetGDCMSeriesIDs(path)\n",
    "    if not series_IDs:\n",
    "        print(f\"ERROR: given directory {path} does not contain a DICOM series.\")\n",
    "        return\n",
    "    series_file_names = series_reader.GetGDCMSeriesFileNames(path, series_IDs[0])\n",
    "    series_reader.SetFileNames(series_file_names)\n",
    "    image3D = series_reader.Execute()\n",
    "    return image3D"
   ]
  },
  {
   "cell_type": "code",
   "execution_count": 46,
   "metadata": {},
   "outputs": [
    {
     "name": "stdout",
     "output_type": "stream",
     "text": [
      "(860, 860, 760) (0.2, 0.2, 0.2) (0.0, 0.0, 0.2)\n"
     ]
    }
   ],
   "source": [
    "img = read_series(os.path.join(DS_PATH, \"1\"))\n",
    "print(img.GetSize(), img.GetSpacing(), img.GetOrigin())\n",
    "img = sitk.Cast(img[430:, 430:, 500:540], sitk.sitkFloat32)\n",
    "# img_arr = sitk.GetArrayFromImage(img)\n",
    "# img_arr_part = img_arr[500:540, 430:, 430:]"
   ]
  },
  {
   "cell_type": "code",
   "execution_count": 57,
   "metadata": {},
   "outputs": [
    {
     "data": {
      "application/vnd.jupyter.widget-view+json": {
       "model_id": "a587ab20b43347078fd5ddb2d191f39f",
       "version_major": 2,
       "version_minor": 0
      },
      "text/plain": [
       "interactive(children=(IntSlider(value=20, description='axial_slice', max=39), Output()), _dom_classes=('widget…"
      ]
     },
     "metadata": {},
     "output_type": "display_data"
    }
   ],
   "source": [
    "lower_threshold = 150  # Adjust as needed\n",
    "upper_threshold = 1000  # Adjust as needed\n",
    "# smooth_img = sitk.SmoothingRecursiveGaussian(img, sigma=0.5)\n",
    "# edge_image = sitk.CannyEdgeDetection(\n",
    "#     img,\n",
    "#     lowerThreshold=1000,\n",
    "#     upperThreshold=1500,\n",
    "#     variance=[1, 1, 1],\n",
    "# )\n",
    "\n",
    "\n",
    "bone_mask = sitk.BinaryThreshold(\n",
    "    img, lower_threshold, upper_threshold, insideValue=1, outsideValue=0\n",
    ")\n",
    "bone_mask = sitk.BinaryDilate(bone_mask, (3, 3, 3))\n",
    "bone_mask = sitk.BinaryErode(bone_mask, (3, 3, 3))\n",
    "segmented_bones = sitk.Mask(img, bone_mask)\n",
    "segmented_bones_arr = sitk.GetArrayFromImage(segmented_bones)\n",
    "slices_slider(segmented_bones_arr, 20, \"img\")"
   ]
  }
 ],
 "metadata": {
  "kernelspec": {
   "display_name": "Python 3",
   "language": "python",
   "name": "python3"
  },
  "language_info": {
   "codemirror_mode": {
    "name": "ipython",
    "version": 3
   },
   "file_extension": ".py",
   "mimetype": "text/x-python",
   "name": "python",
   "nbconvert_exporter": "python",
   "pygments_lexer": "ipython3",
   "version": "3.11.5"
  }
 },
 "nbformat": 4,
 "nbformat_minor": 2
}
