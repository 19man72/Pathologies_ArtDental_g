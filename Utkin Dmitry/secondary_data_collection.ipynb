{
 "cells": [
  {
   "cell_type": "code",
   "execution_count": 2,
   "metadata": {},
   "outputs": [],
   "source": [
    "import polars as pl\n",
    "import numpy as np"
   ]
  },
  {
   "cell_type": "markdown",
   "metadata": {},
   "source": [
    "Сопоставление размеров в разных проекциях.\n"
   ]
  },
  {
   "cell_type": "code",
   "execution_count": 4,
   "metadata": {},
   "outputs": [
    {
     "data": {
      "text/html": [
       "<div><style>\n",
       ".dataframe > thead > tr,\n",
       ".dataframe > tbody > tr {\n",
       "  text-align: right;\n",
       "  white-space: pre-wrap;\n",
       "}\n",
       "</style>\n",
       "<small>shape: (3, 35)</small><table border=\"1\" class=\"dataframe\"><thead><tr><th>id</th><th>name</th><th>comment</th><th>axial.left.anterior</th><th>axial.left.posterior</th><th>axial.left.medial</th><th>axial.left.lateral</th><th>axial.right.anterior</th><th>axial.right.posterior</th><th>axial.right.medial</th><th>axial.right.lateral</th><th>sagittal.left.anterior</th><th>sagittal.left.superior</th><th>sagittal.left.posterior</th><th>sagittal.right.anterior</th><th>sagittal.right.superior</th><th>sagittal.right.posterior</th><th>coronal.left.lateral</th><th>coronal.left.medial</th><th>coronal.left.superior</th><th>coronal.right.lateral</th><th>coronal.right.medial</th><th>coronal.right.superior</th><th>issue.lateral.left</th><th>issue.lateral.right</th><th>issue.medial.left</th><th>issue.medial.right</th><th>issue.compression.left</th><th>issue.compression.right</th><th>issue.distraction.left</th><th>issue.distraction.right</th><th>issue.distal.left</th><th>issue.distal.right</th><th>issue.mesial.left</th><th>issue.mesial.right</th></tr><tr><td>i64</td><td>str</td><td>str</td><td>f64</td><td>f64</td><td>f64</td><td>f64</td><td>f64</td><td>f64</td><td>f64</td><td>f64</td><td>f64</td><td>f64</td><td>f64</td><td>f64</td><td>f64</td><td>f64</td><td>f64</td><td>f64</td><td>f64</td><td>f64</td><td>f64</td><td>f64</td><td>f64</td><td>f64</td><td>f64</td><td>f64</td><td>f64</td><td>f64</td><td>f64</td><td>f64</td><td>f64</td><td>f64</td><td>f64</td><td>f64</td></tr></thead><tbody><tr><td>1</td><td>&quot;Останькович В.…</td><td>null</td><td>-1.0</td><td>-1.0</td><td>3.1</td><td>1.6</td><td>null</td><td>null</td><td>null</td><td>null</td><td>2.3</td><td>2.9</td><td>1.6</td><td>2.3</td><td>3.0</td><td>1.4</td><td>1.6</td><td>2.6</td><td>2.7</td><td>1.7</td><td>5.1</td><td>2.6</td><td>1.0</td><td>1.0</td><td>null</td><td>null</td><td>null</td><td>null</td><td>null</td><td>null</td><td>1.0</td><td>1.0</td><td>null</td><td>null</td></tr><tr><td>2</td><td>&quot;Самойлова Е.Г.…</td><td>null</td><td>-1.0</td><td>-1.0</td><td>1.7</td><td>2.3</td><td>-1.0</td><td>-1.0</td><td>2.0</td><td>2.3</td><td>2.2</td><td>2.1</td><td>1.6</td><td>2.8</td><td>2.4</td><td>1.9</td><td>2.2</td><td>2.4</td><td>1.9</td><td>1.9</td><td>1.9</td><td>2.3</td><td>null</td><td>null</td><td>1.0</td><td>null</td><td>null</td><td>null</td><td>null</td><td>null</td><td>1.0</td><td>1.0</td><td>null</td><td>null</td></tr><tr><td>3</td><td>&quot;Авакимова М.Н.…</td><td>null</td><td>-1.0</td><td>-1.0</td><td>8.4</td><td>2.4</td><td>null</td><td>null</td><td>null</td><td>null</td><td>2.9</td><td>4.2</td><td>3.7</td><td>3.6</td><td>4.2</td><td>2.7</td><td>3.2</td><td>6.3</td><td>4.2</td><td>4.1</td><td>6.3</td><td>3.0</td><td>null</td><td>1.0</td><td>null</td><td>null</td><td>null</td><td>null</td><td>null</td><td>null</td><td>null</td><td>1.0</td><td>null</td><td>null</td></tr></tbody></table></div>"
      ],
      "text/plain": [
       "shape: (3, 35)\n",
       "┌─────┬─────────────┬─────────┬────────────┬───┬────────────┬────────────┬────────────┬────────────┐\n",
       "│ id  ┆ name        ┆ comment ┆ axial.left ┆ … ┆ issue.dist ┆ issue.dist ┆ issue.mesi ┆ issue.mesi │\n",
       "│ --- ┆ ---         ┆ ---     ┆ .anterior  ┆   ┆ al.left    ┆ al.right   ┆ al.left    ┆ al.right   │\n",
       "│ i64 ┆ str         ┆ str     ┆ ---        ┆   ┆ ---        ┆ ---        ┆ ---        ┆ ---        │\n",
       "│     ┆             ┆         ┆ f64        ┆   ┆ f64        ┆ f64        ┆ f64        ┆ f64        │\n",
       "╞═════╪═════════════╪═════════╪════════════╪═══╪════════════╪════════════╪════════════╪════════════╡\n",
       "│ 1   ┆ Останькович ┆ null    ┆ -1.0       ┆ … ┆ 1.0        ┆ 1.0        ┆ null       ┆ null       │\n",
       "│     ┆ В.В.        ┆         ┆            ┆   ┆            ┆            ┆            ┆            │\n",
       "│ 2   ┆ Самойлова   ┆ null    ┆ -1.0       ┆ … ┆ 1.0        ┆ 1.0        ┆ null       ┆ null       │\n",
       "│     ┆ Е.Г.        ┆         ┆            ┆   ┆            ┆            ┆            ┆            │\n",
       "│     ┆ 29.12.2021  ┆         ┆            ┆   ┆            ┆            ┆            ┆            │\n",
       "│ 3   ┆ Авакимова   ┆ null    ┆ -1.0       ┆ … ┆ null       ┆ 1.0        ┆ null       ┆ null       │\n",
       "│     ┆ М.Н.        ┆         ┆            ┆   ┆            ┆            ┆            ┆            │\n",
       "└─────┴─────────────┴─────────┴────────────┴───┴────────────┴────────────┴────────────┴────────────┘"
      ]
     },
     "execution_count": 4,
     "metadata": {},
     "output_type": "execute_result"
    }
   ],
   "source": [
    "df = pl.read_csv(\"DF_semifinal.csv\")\n",
    "df.head(3)"
   ]
  },
  {
   "cell_type": "code",
   "execution_count": 5,
   "metadata": {},
   "outputs": [
    {
     "data": {
      "text/html": [
       "<div><style>\n",
       ".dataframe > thead > tr,\n",
       ".dataframe > tbody > tr {\n",
       "  text-align: right;\n",
       "  white-space: pre-wrap;\n",
       "}\n",
       "</style>\n",
       "<small>shape: (3, 35)</small><table border=\"1\" class=\"dataframe\"><thead><tr><th>id</th><th>name</th><th>comment</th><th>axial.left.anterior</th><th>axial.left.posterior</th><th>axial.left.medial</th><th>axial.left.lateral</th><th>axial.right.anterior</th><th>axial.right.posterior</th><th>axial.right.medial</th><th>axial.right.lateral</th><th>sagittal.left.anterior</th><th>sagittal.left.superior</th><th>sagittal.left.posterior</th><th>sagittal.right.anterior</th><th>sagittal.right.superior</th><th>sagittal.right.posterior</th><th>coronal.left.lateral</th><th>coronal.left.medial</th><th>coronal.left.superior</th><th>coronal.right.lateral</th><th>coronal.right.medial</th><th>coronal.right.superior</th><th>issue.lateral.left</th><th>issue.lateral.right</th><th>issue.medial.left</th><th>issue.medial.right</th><th>issue.compression.left</th><th>issue.compression.right</th><th>issue.distraction.left</th><th>issue.distraction.right</th><th>issue.distal.left</th><th>issue.distal.right</th><th>issue.mesial.left</th><th>issue.mesial.right</th></tr><tr><td>i64</td><td>str</td><td>str</td><td>f64</td><td>f64</td><td>f64</td><td>f64</td><td>f64</td><td>f64</td><td>f64</td><td>f64</td><td>f64</td><td>f64</td><td>f64</td><td>f64</td><td>f64</td><td>f64</td><td>f64</td><td>f64</td><td>f64</td><td>f64</td><td>f64</td><td>f64</td><td>f64</td><td>f64</td><td>f64</td><td>f64</td><td>f64</td><td>f64</td><td>f64</td><td>f64</td><td>f64</td><td>f64</td><td>f64</td><td>f64</td></tr></thead><tbody><tr><td>1</td><td>&quot;Останькович В.…</td><td>null</td><td>-1.0</td><td>-1.0</td><td>3.1</td><td>1.6</td><td>0.0</td><td>0.0</td><td>0.0</td><td>0.0</td><td>2.3</td><td>2.9</td><td>1.6</td><td>2.3</td><td>3.0</td><td>1.4</td><td>1.6</td><td>2.6</td><td>2.7</td><td>1.7</td><td>5.1</td><td>2.6</td><td>1.0</td><td>1.0</td><td>0.0</td><td>0.0</td><td>0.0</td><td>0.0</td><td>0.0</td><td>0.0</td><td>1.0</td><td>1.0</td><td>0.0</td><td>0.0</td></tr><tr><td>2</td><td>&quot;Самойлова Е.Г.…</td><td>null</td><td>-1.0</td><td>-1.0</td><td>1.7</td><td>2.3</td><td>-1.0</td><td>-1.0</td><td>2.0</td><td>2.3</td><td>2.2</td><td>2.1</td><td>1.6</td><td>2.8</td><td>2.4</td><td>1.9</td><td>2.2</td><td>2.4</td><td>1.9</td><td>1.9</td><td>1.9</td><td>2.3</td><td>0.0</td><td>0.0</td><td>1.0</td><td>0.0</td><td>0.0</td><td>0.0</td><td>0.0</td><td>0.0</td><td>1.0</td><td>1.0</td><td>0.0</td><td>0.0</td></tr><tr><td>3</td><td>&quot;Авакимова М.Н.…</td><td>null</td><td>-1.0</td><td>-1.0</td><td>8.4</td><td>2.4</td><td>0.0</td><td>0.0</td><td>0.0</td><td>0.0</td><td>2.9</td><td>4.2</td><td>3.7</td><td>3.6</td><td>4.2</td><td>2.7</td><td>3.2</td><td>6.3</td><td>4.2</td><td>4.1</td><td>6.3</td><td>3.0</td><td>0.0</td><td>1.0</td><td>0.0</td><td>0.0</td><td>0.0</td><td>0.0</td><td>0.0</td><td>0.0</td><td>0.0</td><td>1.0</td><td>0.0</td><td>0.0</td></tr></tbody></table></div>"
      ],
      "text/plain": [
       "shape: (3, 35)\n",
       "┌─────┬─────────────┬─────────┬────────────┬───┬────────────┬────────────┬────────────┬────────────┐\n",
       "│ id  ┆ name        ┆ comment ┆ axial.left ┆ … ┆ issue.dist ┆ issue.dist ┆ issue.mesi ┆ issue.mesi │\n",
       "│ --- ┆ ---         ┆ ---     ┆ .anterior  ┆   ┆ al.left    ┆ al.right   ┆ al.left    ┆ al.right   │\n",
       "│ i64 ┆ str         ┆ str     ┆ ---        ┆   ┆ ---        ┆ ---        ┆ ---        ┆ ---        │\n",
       "│     ┆             ┆         ┆ f64        ┆   ┆ f64        ┆ f64        ┆ f64        ┆ f64        │\n",
       "╞═════╪═════════════╪═════════╪════════════╪═══╪════════════╪════════════╪════════════╪════════════╡\n",
       "│ 1   ┆ Останькович ┆ null    ┆ -1.0       ┆ … ┆ 1.0        ┆ 1.0        ┆ 0.0        ┆ 0.0        │\n",
       "│     ┆ В.В.        ┆         ┆            ┆   ┆            ┆            ┆            ┆            │\n",
       "│ 2   ┆ Самойлова   ┆ null    ┆ -1.0       ┆ … ┆ 1.0        ┆ 1.0        ┆ 0.0        ┆ 0.0        │\n",
       "│     ┆ Е.Г.        ┆         ┆            ┆   ┆            ┆            ┆            ┆            │\n",
       "│     ┆ 29.12.2021  ┆         ┆            ┆   ┆            ┆            ┆            ┆            │\n",
       "│ 3   ┆ Авакимова   ┆ null    ┆ -1.0       ┆ … ┆ 0.0        ┆ 1.0        ┆ 0.0        ┆ 0.0        │\n",
       "│     ┆ М.Н.        ┆         ┆            ┆   ┆            ┆            ┆            ┆            │\n",
       "└─────┴─────────────┴─────────┴────────────┴───┴────────────┴────────────┴────────────┴────────────┘"
      ]
     },
     "execution_count": 5,
     "metadata": {},
     "output_type": "execute_result"
    }
   ],
   "source": [
    "df = df.fill_null(0)\n",
    "df.head(3)"
   ]
  },
  {
   "cell_type": "code",
   "execution_count": 16,
   "metadata": {},
   "outputs": [],
   "source": [
    "excluded = [0, -1]"
   ]
  },
  {
   "cell_type": "code",
   "execution_count": 19,
   "metadata": {},
   "outputs": [
    {
     "data": {
      "text/html": [
       "<div><style>\n",
       ".dataframe > thead > tr,\n",
       ".dataframe > tbody > tr {\n",
       "  text-align: right;\n",
       "  white-space: pre-wrap;\n",
       "}\n",
       "</style>\n",
       "<small>shape: (9, 5)</small><table border=\"1\" class=\"dataframe\"><thead><tr><th>describe</th><th>id</th><th>sagittal.left.superior</th><th>coronal.left.superior</th><th>diff</th></tr><tr><td>str</td><td>f64</td><td>f64</td><td>f64</td><td>f64</td></tr></thead><tbody><tr><td>&quot;count&quot;</td><td>379.0</td><td>379.0</td><td>379.0</td><td>379.0</td></tr><tr><td>&quot;null_count&quot;</td><td>0.0</td><td>0.0</td><td>0.0</td><td>0.0</td></tr><tr><td>&quot;mean&quot;</td><td>190.583113</td><td>2.223615</td><td>1.705145</td><td>0.296385</td></tr><tr><td>&quot;std&quot;</td><td>110.162268</td><td>1.647448</td><td>1.565731</td><td>0.620269</td></tr><tr><td>&quot;min&quot;</td><td>1.0</td><td>-1.0</td><td>-1.0</td><td>-1.5</td></tr><tr><td>&quot;25%&quot;</td><td>96.0</td><td>0.9</td><td>0.0</td><td>0.0</td></tr><tr><td>&quot;50%&quot;</td><td>190.0</td><td>2.3</td><td>1.9</td><td>0.0</td></tr><tr><td>&quot;75%&quot;</td><td>286.0</td><td>3.2</td><td>2.7</td><td>0.5</td></tr><tr><td>&quot;max&quot;</td><td>381.0</td><td>7.6</td><td>7.3</td><td>3.63</td></tr></tbody></table></div>"
      ],
      "text/plain": [
       "shape: (9, 5)\n",
       "┌────────────┬────────────┬────────────────────────┬───────────────────────┬──────────┐\n",
       "│ describe   ┆ id         ┆ sagittal.left.superior ┆ coronal.left.superior ┆ diff     │\n",
       "│ ---        ┆ ---        ┆ ---                    ┆ ---                   ┆ ---      │\n",
       "│ str        ┆ f64        ┆ f64                    ┆ f64                   ┆ f64      │\n",
       "╞════════════╪════════════╪════════════════════════╪═══════════════════════╪══════════╡\n",
       "│ count      ┆ 379.0      ┆ 379.0                  ┆ 379.0                 ┆ 379.0    │\n",
       "│ null_count ┆ 0.0        ┆ 0.0                    ┆ 0.0                   ┆ 0.0      │\n",
       "│ mean       ┆ 190.583113 ┆ 2.223615               ┆ 1.705145              ┆ 0.296385 │\n",
       "│ std        ┆ 110.162268 ┆ 1.647448               ┆ 1.565731              ┆ 0.620269 │\n",
       "│ min        ┆ 1.0        ┆ -1.0                   ┆ -1.0                  ┆ -1.5     │\n",
       "│ 25%        ┆ 96.0       ┆ 0.9                    ┆ 0.0                   ┆ 0.0      │\n",
       "│ 50%        ┆ 190.0      ┆ 2.3                    ┆ 1.9                   ┆ 0.0      │\n",
       "│ 75%        ┆ 286.0      ┆ 3.2                    ┆ 2.7                   ┆ 0.5      │\n",
       "│ max        ┆ 381.0      ┆ 7.6                    ┆ 7.3                   ┆ 3.63     │\n",
       "└────────────┴────────────┴────────────────────────┴───────────────────────┴──────────┘"
      ]
     },
     "execution_count": 19,
     "metadata": {},
     "output_type": "execute_result"
    }
   ],
   "source": [
    "df_left_superior = df.select([\"id\", \"^.*left.superior$\"]).with_columns(\n",
    "    pl.when(\n",
    "        pl.col(\"coronal.left.superior\").is_in(excluded)\n",
    "        | pl.col(\"sagittal.left.superior\").is_in(excluded)\n",
    "    )\n",
    "    .then(0)\n",
    "    .otherwise(pl.col(\"sagittal.left.superior\") - pl.col(\"coronal.left.superior\"))\n",
    "    .alias(\"diff\"),\n",
    ")\n",
    "\n",
    "\n",
    "df_left_superior.describe()"
   ]
  },
  {
   "cell_type": "code",
   "execution_count": 21,
   "metadata": {},
   "outputs": [
    {
     "data": {
      "text/html": [
       "<div><style>\n",
       ".dataframe > thead > tr,\n",
       ".dataframe > tbody > tr {\n",
       "  text-align: right;\n",
       "  white-space: pre-wrap;\n",
       "}\n",
       "</style>\n",
       "<small>shape: (94, 4)</small><table border=\"1\" class=\"dataframe\"><thead><tr><th>id</th><th>sagittal.left.superior</th><th>coronal.left.superior</th><th>diff</th></tr><tr><td>i64</td><td>f64</td><td>f64</td><td>f64</td></tr></thead><tbody><tr><td>5</td><td>4.1</td><td>3.5</td><td>0.6</td></tr><tr><td>9</td><td>3.0</td><td>2.4</td><td>0.6</td></tr><tr><td>11</td><td>3.2</td><td>2.6</td><td>0.6</td></tr><tr><td>12</td><td>2.8</td><td>2.1</td><td>0.7</td></tr><tr><td>14</td><td>3.5</td><td>2.1</td><td>1.4</td></tr><tr><td>17</td><td>3.1</td><td>1.8</td><td>1.3</td></tr><tr><td>23</td><td>4.6</td><td>2.9</td><td>1.7</td></tr><tr><td>25</td><td>3.6</td><td>2.7</td><td>0.9</td></tr><tr><td>26</td><td>3.2</td><td>2.0</td><td>1.2</td></tr><tr><td>27</td><td>2.8</td><td>2.0</td><td>0.8</td></tr><tr><td>37</td><td>4.2</td><td>3.3</td><td>0.9</td></tr><tr><td>39</td><td>3.0</td><td>1.9</td><td>1.1</td></tr><tr><td>&hellip;</td><td>&hellip;</td><td>&hellip;</td><td>&hellip;</td></tr><tr><td>253</td><td>3.33</td><td>2.03</td><td>1.3</td></tr><tr><td>254</td><td>3.0</td><td>2.3</td><td>0.7</td></tr><tr><td>258</td><td>3.37</td><td>2.67</td><td>0.7</td></tr><tr><td>263</td><td>2.5</td><td>1.8</td><td>0.7</td></tr><tr><td>270</td><td>4.2</td><td>2.1</td><td>2.1</td></tr><tr><td>272</td><td>1.9</td><td>1.3</td><td>0.6</td></tr><tr><td>273</td><td>3.7</td><td>2.8</td><td>0.9</td></tr><tr><td>281</td><td>4.7</td><td>2.4</td><td>2.3</td></tr><tr><td>283</td><td>3.2</td><td>2.0</td><td>1.2</td></tr><tr><td>285</td><td>5.4</td><td>3.8</td><td>1.6</td></tr><tr><td>289</td><td>1.4</td><td>0.8</td><td>0.6</td></tr><tr><td>291</td><td>7.3</td><td>4.9</td><td>2.4</td></tr></tbody></table></div>"
      ],
      "text/plain": [
       "shape: (94, 4)\n",
       "┌─────┬────────────────────────┬───────────────────────┬──────┐\n",
       "│ id  ┆ sagittal.left.superior ┆ coronal.left.superior ┆ diff │\n",
       "│ --- ┆ ---                    ┆ ---                   ┆ ---  │\n",
       "│ i64 ┆ f64                    ┆ f64                   ┆ f64  │\n",
       "╞═════╪════════════════════════╪═══════════════════════╪══════╡\n",
       "│ 5   ┆ 4.1                    ┆ 3.5                   ┆ 0.6  │\n",
       "│ 9   ┆ 3.0                    ┆ 2.4                   ┆ 0.6  │\n",
       "│ 11  ┆ 3.2                    ┆ 2.6                   ┆ 0.6  │\n",
       "│ 12  ┆ 2.8                    ┆ 2.1                   ┆ 0.7  │\n",
       "│ …   ┆ …                      ┆ …                     ┆ …    │\n",
       "│ 283 ┆ 3.2                    ┆ 2.0                   ┆ 1.2  │\n",
       "│ 285 ┆ 5.4                    ┆ 3.8                   ┆ 1.6  │\n",
       "│ 289 ┆ 1.4                    ┆ 0.8                   ┆ 0.6  │\n",
       "│ 291 ┆ 7.3                    ┆ 4.9                   ┆ 2.4  │\n",
       "└─────┴────────────────────────┴───────────────────────┴──────┘"
      ]
     },
     "execution_count": 21,
     "metadata": {},
     "output_type": "execute_result"
    }
   ],
   "source": [
    "df_left_superior.filter(pl.col(\"diff\") > 0.5)"
   ]
  }
 ],
 "metadata": {
  "kernelspec": {
   "display_name": "Python 3",
   "language": "python",
   "name": "python3"
  },
  "language_info": {
   "codemirror_mode": {
    "name": "ipython",
    "version": 3
   },
   "file_extension": ".py",
   "mimetype": "text/x-python",
   "name": "python",
   "nbconvert_exporter": "python",
   "pygments_lexer": "ipython3",
   "version": "3.11.5"
  }
 },
 "nbformat": 4,
 "nbformat_minor": 2
}
